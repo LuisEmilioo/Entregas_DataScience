{
 "cells": [
  {
   "attachments": {},
   "cell_type": "markdown",
   "metadata": {},
   "source": [
    "![imagen](./img/ejercicios.png)"
   ]
  },
  {
   "attachments": {},
   "cell_type": "markdown",
   "metadata": {},
   "source": [
    "# Ejercicios Python Basics II"
   ]
  },
  {
   "attachments": {},
   "cell_type": "markdown",
   "metadata": {},
   "source": [
    "## Ejercicio 1\n",
    "* Crea dos variables numericas: un `int` y un `float`\n",
    "* Comprueba sus tipos\n",
    "* Sumalas en otra nueva\n",
    "* ¿De qué tipo es la nueva variable?\n",
    "* Elimina las dos primeras variables creadas"
   ]
  },
  {
   "cell_type": "code",
   "execution_count": 49,
   "metadata": {},
   "outputs": [
    {
     "name": "stdout",
     "output_type": "stream",
     "text": [
      "<class 'int'>\n",
      "<class 'float'>\n",
      "13.5\n",
      "<class 'float'>\n"
     ]
    }
   ],
   "source": [
    "#Variable_Entera=5\n",
    "#Variable_Float=8.5\n",
    "\n",
    "print(type(Variable_Entera))\n",
    "print(type(Variable_Float))\n",
    "\n",
    "Suma_De_Variables=Variable_Entera+Variable_Float\n",
    "print(Suma_De_Variables)\n",
    "print(type(Suma_De_Variables)) #tipo float"
   ]
  },
  {
   "attachments": {},
   "cell_type": "markdown",
   "metadata": {},
   "source": [
    "## Ejercicio 2\n",
    "Escribe un programa para pasar de grados a radianes. Hay que usar `input`. Recuerda que la conversión se realiza mediante\n",
    "\n",
    "radianes = grados*(pi/180)"
   ]
  },
  {
   "cell_type": "code",
   "execution_count": 1,
   "metadata": {},
   "outputs": [
    {
     "name": "stdout",
     "output_type": "stream",
     "text": [
      "0.06981317007977318\n"
     ]
    }
   ],
   "source": [
    "Numero_Grados= input(\"Por favor, introduzca el numero de grados\")\n",
    "Grados_introducidos=int(Numero_Grados)\n",
    "import math\n",
    "Nuevo_PI=math.pi\n",
    "Cantidad_Radianes=Grados_introducidos*(Nuevo_PI/180)\n",
    "print(Cantidad_Radianes)"
   ]
  },
  {
   "attachments": {},
   "cell_type": "markdown",
   "metadata": {},
   "source": [
    "## Ejercicio 3\n",
    "Escribe un programa que calcule el area de un paralelogramo (base x altura). También con `input`"
   ]
  },
  {
   "cell_type": "code",
   "execution_count": null,
   "metadata": {},
   "outputs": [
    {
     "name": "stdout",
     "output_type": "stream",
     "text": [
      "10\n"
     ]
    }
   ],
   "source": [
    "Valor_Base=input(\"Introduzca el valor de la base\")\n",
    "Valor_Altura=input(\"Introduzca el valor de la altura\")\n",
    "Base_en_int= int(Valor_Base)\n",
    "Altura_en_int= int(Valor_Altura)\n",
    "Valor_Area=(Base_en_int* Altura_en_int)\n",
    "print(Valor_Area)"
   ]
  },
  {
   "attachments": {},
   "cell_type": "markdown",
   "metadata": {},
   "source": [
    "## Ejercicio 4\n",
    "Tenemos las siguientes variables:\n",
    "\n",
    "```Python\n",
    "A = 4\n",
    "B = \"Text\"\n",
    "C = 4.1\n",
    "```\n",
    "\n",
    "Comprueba:\n",
    "1. Si A y B son equivalentes\n",
    "2. Si A y C NO son equivalentes\n",
    "3. Si A es mayor que C \n",
    "4. Si C es menor o igual que A\n",
    "5. Si B NO es equivalente a C"
   ]
  },
  {
   "cell_type": "code",
   "execution_count": 62,
   "metadata": {},
   "outputs": [
    {
     "name": "stdout",
     "output_type": "stream",
     "text": [
      "False\n",
      "True\n",
      "False\n",
      "False\n",
      "True\n"
     ]
    }
   ],
   "source": [
    "A = 4\n",
    "B = \"text\"\n",
    "C = 4.1\n",
    "\n",
    "if A==B:\n",
    "    print (True)\n",
    "else: \n",
    "    print (False)\n",
    "if A!=B:\n",
    "    print (True)\n",
    "else:\n",
    "    print(False)\n",
    "if A>C: \n",
    "    print (True)\n",
    "else:\n",
    "    print(False)\n",
    "if C<=A:\n",
    "    print (True)\n",
    "else:\n",
    "    print(False)\n",
    "if B!=C:\n",
    "    print (True)\n",
    "else:\n",
    "    print(False)"
   ]
  },
  {
   "attachments": {},
   "cell_type": "markdown",
   "metadata": {},
   "source": [
    "## Ejercicio 5\n",
    "Crea un programa donde se recojan dos inputs del usuario, y el output del programa sea si esos inputs son iguales o no"
   ]
  },
  {
   "cell_type": "code",
   "execution_count": 54,
   "metadata": {},
   "outputs": [
    {
     "name": "stdout",
     "output_type": "stream",
     "text": [
      "Los valores no son iguales\n"
     ]
    }
   ],
   "source": [
    "Primer_Valor=input(\"Por favor, introduzca un numero entero\")\n",
    "Segundo_Valor=input(\"Por favor, introduzca otro numero entero\")\n",
    "Primer_valor_final=int(Primer_Valor)\n",
    "Segundo_valor_final=int(Segundo_Valor)\n",
    "if Primer_valor_final== Segundo_valor_final:\n",
    "    print(\"Ambos valores son iguales\")\n",
    "else:\n",
    "    print(\"Los valores no son iguales\")"
   ]
  },
  {
   "attachments": {},
   "cell_type": "markdown",
   "metadata": {},
   "source": [
    "## Ejercicio 6\n",
    "Mismo programa que en 5, pero en esta ocasión tienen que ser tres inputs y dos salidas. Una de las salidas que nos indique si todos son iguales, y la otra si al menos dos inputs sí que lo son"
   ]
  },
  {
   "cell_type": "code",
   "execution_count": 3,
   "metadata": {},
   "outputs": [
    {
     "name": "stdout",
     "output_type": "stream",
     "text": [
      "los tres numeros son diferentes\n",
      "Al menos dos numeros son iguales\n"
     ]
    }
   ],
   "source": [
    "Primer_Valor=input(\"Por favor, introduzca un numero entero\")\n",
    "Segundo_Valor=input(\"Por favor, introduzca otro numero entero\")\n",
    "Tercer_Valor=input(\"Por favor, introduzca un numero entero mas\")\n",
    "\n",
    "Primer_valor_final=int(Primer_Valor)\n",
    "Segundo_valor_final=int(Segundo_Valor)\n",
    "Tercer_valor_final=int(Tercer_Valor)\n",
    "\n",
    "\n",
    "if Primer_valor_final==Segundo_valor_final and Segundo_valor_final == Tercer_valor_final and Primer_valor_final==Tercer_valor_final:\n",
    "    print(\"todos los valores son iguales\")\n",
    "else: print(\"los tres numeros son diferentes\")\n",
    "if Primer_valor_final== Segundo_Valor or Segundo_valor_final==Tercer_valor_final or Tercer_valor_final==Primer_valor_final:\n",
    "    print(\"Al menos dos numeros son iguales\")\n",
    "else: \n",
    "    print(\"ningún numero es igual\")"
   ]
  },
  {
   "attachments": {},
   "cell_type": "markdown",
   "metadata": {},
   "source": [
    "## Ejercicio 7\n",
    "Crea un programa que recoja dos inputs. Tiene que comprobar si su suma es igual, superior o inferior a 10"
   ]
  },
  {
   "cell_type": "code",
   "execution_count": 71,
   "metadata": {},
   "outputs": [
    {
     "name": "stdout",
     "output_type": "stream",
     "text": [
      "la Suma de los numeros es mayor a 10\n"
     ]
    }
   ],
   "source": [
    "Intro_Numero_uno=input(\"Introduce un numero\")\n",
    "Intro_Numero_dos=input(\"Introduce un numero\")\n",
    "\n",
    "\n",
    "Nuevo_Numero_uno= int(Intro_Numero_uno)\n",
    "Nuevo_Numero_dos= int(Intro_Numero_dos)\n",
    "\n",
    "Suma_de_nuemros=Nuevo_Numero_uno+Nuevo_Numero_uno\n",
    "\n",
    "if Suma_de_nuemros<10:\n",
    "    print(\"La suma de los numeros es menor a 10\")\n",
    "else:\n",
    "    if Suma_de_nuemros>10:\n",
    "        print(\"la Suma de los numeros es mayor a 10\")\n",
    "    else:\n",
    "        if Suma_de_nuemros==10:\n",
    "            print(\"La suma de los numeros es igual a 10 \")\n",
    "\n"
   ]
  },
  {
   "attachments": {},
   "cell_type": "markdown",
   "metadata": {},
   "source": [
    "## Ejercicio 8\n",
    "Razona sin ejecutar código el output que obtendremos de las siguientes sentencias\n",
    "1. True and True and False\n",
    "2. not ((True or False) and (True or False))\n",
    "3. (False or False or False or True) and False\n",
    "4. not False and True and not True"
   ]
  },
  {
   "attachments": {},
   "cell_type": "markdown",
   "metadata": {},
   "source": []
  },
  {
   "attachments": {},
   "cell_type": "markdown",
   "metadata": {},
   "source": [
    "## Ejercicio 9\n",
    "Para este ejercicio vamos a poner en práctica [las funciones built in](https://docs.python.org/3/library/functions.html).\n",
    "\n",
    "1. Calcula el máximo de la lista: [4, 6, 8, -1]\n",
    "2. Suma todos los elementos de la lista anterior\n",
    "3. Redondea este float a 3 dígitos decimales: 63.451256965\n",
    "4. Valor absoluto de: -74"
   ]
  },
  {
   "cell_type": "code",
   "execution_count": 3,
   "metadata": {},
   "outputs": [
    {
     "name": "stdout",
     "output_type": "stream",
     "text": [
      "8\n",
      "17\n",
      "63.451\n",
      "74\n"
     ]
    }
   ],
   "source": [
    "Lista_numeros = [4, 6, 8, -1]\n",
    "Valor_en_Lista = max(Lista_numeros)\n",
    "print(Valor_en_Lista)\n",
    "Suma_valores = sum(Lista_numeros)\n",
    "print(Suma_valores)\n",
    "\n",
    "\n",
    "Numero_sin_redondear = 63.451256965\n",
    "Numero_redondeado = round(Numero_sin_redondear, 3)\n",
    "print(Numero_redondeado)\n",
    "\n",
    "\n",
    "Valor = -74\n",
    "Val_absoluto = abs(Valor)\n",
    "print(Val_absoluto)\n"
   ]
  },
  {
   "attachments": {},
   "cell_type": "markdown",
   "metadata": {},
   "source": [
    "## Ejercicio 10\n",
    "Para el siguiente string se pide imprimir por pantalla los siguientes casos\n",
    "\n",
    "    \"En un lugar de la Mancha, de cuyo nombre no quiero acordarme.\"\n",
    "\n",
    "1. Pásalo todo a mayúsculas\n",
    "2. Pásalo todo a minúsculas\n",
    "3. Solo la primera letra de cada palabra en mayúscula, el resto en minúscula\n",
    "4. Crea una lista dividiéndolo por sus espacios\n",
    "5. Sustituye las comas `,` por puntos y comas `;`\n",
    "6. Elimina las `a` minúsculas"
   ]
  },
  {
   "cell_type": "code",
   "execution_count": null,
   "metadata": {},
   "outputs": [],
   "source": []
  },
  {
   "attachments": {},
   "cell_type": "markdown",
   "metadata": {},
   "source": [
    "## Ejercicio 11\n",
    "1. Crea una lista con 3 elementos numéricos\n",
    "2. Añade un cuarto elemento\n",
    "3. Calcula la suma de todos\n",
    "4. Elimina el segundo elemento de la lista\n",
    "5. Añade otro elemento en la posicion 3 de la lista\n",
    "6. Crea otra lista con 4 elementos y concaténala a la que ya tenías."
   ]
  },
  {
   "cell_type": "code",
   "execution_count": null,
   "metadata": {},
   "outputs": [
    {
     "name": "stdout",
     "output_type": "stream",
     "text": [
      "[5, 8, 125]\n",
      "[5, 8, 125, 26]\n",
      "164\n",
      "[5, 8, 125, 25, 26]\n",
      "[5, 8, 125, 25, 26, 30, 35, 40, 45]\n"
     ]
    }
   ],
   "source": [
    "Nueva_lista = [5, 8, 125]\n",
    "print( Nueva_lista)\n",
    "\n",
    "\n",
    "Nueva_lista.append(26)\n",
    "print( Nueva_lista)\n",
    "\n",
    "\n",
    "Suma_total = sum(Nueva_lista)\n",
    "print(Suma_total)\n",
    "\n",
    "\n",
    "Nueva_lista.insert(3, 25)\n",
    "print(Nueva_lista)\n",
    "\n",
    "Ultima_lista = [30, 35, 40, 45]\n",
    "\n",
    "\n",
    "Nueva_lista.extend(Ultima_lista)\n",
    "print(Nueva_lista)\n"
   ]
  }
 ],
 "metadata": {
  "kernelspec": {
   "display_name": "Python 3",
   "language": "python",
   "name": "python3"
  },
  "language_info": {
   "codemirror_mode": {
    "name": "ipython",
    "version": 3
   },
   "file_extension": ".py",
   "mimetype": "text/x-python",
   "name": "python",
   "nbconvert_exporter": "python",
   "pygments_lexer": "ipython3",
   "version": "3.13.3"
  }
 },
 "nbformat": 4,
 "nbformat_minor": 4
}
