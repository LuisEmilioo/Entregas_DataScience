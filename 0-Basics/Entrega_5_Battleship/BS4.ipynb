{
 "cells": [
  {
   "cell_type": "code",
   "execution_count": 17,
   "id": "fcdec6d3",
   "metadata": {},
   "outputs": [
    {
     "name": "stdout",
     "output_type": "stream",
     "text": [
      "necesito dormir\n"
     ]
    },
    {
     "ename": "TypeError",
     "evalue": "'int' object is not subscriptable",
     "output_type": "error",
     "traceback": [
      "\u001b[31m---------------------------------------------------------------------------\u001b[39m",
      "\u001b[31mTypeError\u001b[39m                                 Traceback (most recent call last)",
      "\u001b[36mCell\u001b[39m\u001b[36m \u001b[39m\u001b[32mIn[17]\u001b[39m\u001b[32m, line 47\u001b[39m\n\u001b[32m     38\u001b[39m     np.array([[\u001b[32m1\u001b[39m],[\u001b[32m2\u001b[39m],[\u001b[32m3\u001b[39m]])[\u001b[32m2\u001b[39m]\n\u001b[32m     45\u001b[39m tabler = BS()\n\u001b[32m---> \u001b[39m\u001b[32m47\u001b[39m \u001b[43mtabler\u001b[49m\u001b[43m.\u001b[49m\u001b[43mCrear_Tablero\u001b[49m\u001b[43m(\u001b[49m\u001b[32;43m3\u001b[39;49m\u001b[43m)\u001b[49m\n",
      "\u001b[36mCell\u001b[39m\u001b[36m \u001b[39m\u001b[32mIn[17]\u001b[39m\u001b[32m, line 25\u001b[39m, in \u001b[36mBS.Crear_Tablero\u001b[39m\u001b[34m(self, matriz)\u001b[39m\n\u001b[32m     22\u001b[39m m9 = [\u001b[33m'\u001b[39m\u001b[33m□\u001b[39m\u001b[33m'\u001b[39m, \u001b[33m'\u001b[39m\u001b[33m□\u001b[39m\u001b[33m'\u001b[39m, \u001b[33m'\u001b[39m\u001b[33m□\u001b[39m\u001b[33m'\u001b[39m, \u001b[33m'\u001b[39m\u001b[33m□\u001b[39m\u001b[33m'\u001b[39m, \u001b[33m'\u001b[39m\u001b[33m□\u001b[39m\u001b[33m'\u001b[39m, \u001b[33m'\u001b[39m\u001b[33m□\u001b[39m\u001b[33m'\u001b[39m, \u001b[33m'\u001b[39m\u001b[33m□\u001b[39m\u001b[33m'\u001b[39m, \u001b[33m'\u001b[39m\u001b[33m□\u001b[39m\u001b[33m'\u001b[39m, \u001b[33m'\u001b[39m\u001b[33m□\u001b[39m\u001b[33m'\u001b[39m]\n\u001b[32m     24\u001b[39m \u001b[38;5;28;01mfor\u001b[39;00m i \u001b[38;5;129;01min\u001b[39;00m \u001b[38;5;28mrange\u001b[39m(matriz):\n\u001b[32m---> \u001b[39m\u001b[32m25\u001b[39m     \u001b[38;5;28;01mfor\u001b[39;00m j \u001b[38;5;129;01min\u001b[39;00m \u001b[38;5;28mrange\u001b[39m (\u001b[43mmatriz\u001b[49m\u001b[43m[\u001b[49m\u001b[43mi\u001b[49m\u001b[43m]\u001b[49m):\n\u001b[32m     26\u001b[39m         \u001b[38;5;28mprint\u001b[39m (m1, end= \u001b[33m'\u001b[39m\u001b[33m \u001b[39m\u001b[33m'\u001b[39m)\n\u001b[32m     27\u001b[39m     \u001b[38;5;28mprint\u001b[39m()\n",
      "\u001b[31mTypeError\u001b[39m: 'int' object is not subscriptable"
     ]
    }
   ],
   "source": [
    "import random\n",
    "import numpy as np\n",
    "np.__version__\n",
    "class BS:\n",
    "    \n",
    "    def __init__(self):\n",
    "         print(\"necesito dormir\")\n",
    "    pass\n",
    "\n",
    "    def Crear_Tablero(self, matriz):\n",
    "        \n",
    "        self.matriz = matriz\n",
    "        \n",
    "        m1 = ['□', '□', '□', '□', '□', '□', '□', '□', '□']\n",
    "        m2 = ['□', '□', '□', '□', '□', '□', '□', '□', '□']\n",
    "        m3 = ['□', '□', '□', '□', '□', '□', '□', '□', '□']\n",
    "        m4 = ['□', '□', '□', '□', '□', '□', '□', '□', '□']\n",
    "        m5 = ['□', '□', '□', '□', '□', '□', '□', '□', '□']\n",
    "        m6 = ['□', '□', '□', '□', '□', '□', '□', '□', '□']\n",
    "        m7 = ['□', '□', '□', '□', '□', '□', '□', '□', '□']\n",
    "        m8 = ['□', '□', '□', '□', '□', '□', '□', '□', '□']\n",
    "        m9 = ['□', '□', '□', '□', '□', '□', '□', '□', '□']\n",
    "        \n",
    "        for i in range(matriz):\n",
    "            for j in range (matriz[i]):\n",
    "                print (m1, end= ' ')\n",
    "            print()\n",
    "\n",
    "        \n",
    "        return matriz[i]\n",
    "        \n",
    "        \n",
    "    \n",
    "    np.array([[[[[1,2,3]]]]]).shape\n",
    "    \n",
    "    np.array([[1],[2],[3]]).shape\n",
    "    \n",
    "    np.array([[1],[2],[3]])[2]\n",
    "    \n",
    "   \n",
    "        \n",
    "\n",
    "         \n",
    "        \n",
    "tabler = BS()\n",
    "\n",
    "tabler.Crear_Tablero(3)\n",
    "        \n",
    "    "
   ]
  }
 ],
 "metadata": {
  "kernelspec": {
   "display_name": "Python 3",
   "language": "python",
   "name": "python3"
  },
  "language_info": {
   "codemirror_mode": {
    "name": "ipython",
    "version": 3
   },
   "file_extension": ".py",
   "mimetype": "text/x-python",
   "name": "python",
   "nbconvert_exporter": "python",
   "pygments_lexer": "ipython3",
   "version": "3.13.3"
  }
 },
 "nbformat": 4,
 "nbformat_minor": 5
}
