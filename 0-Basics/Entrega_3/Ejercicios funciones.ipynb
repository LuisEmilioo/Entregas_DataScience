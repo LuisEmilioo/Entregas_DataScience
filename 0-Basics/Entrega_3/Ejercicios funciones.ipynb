{
 "cells": [
  {
   "cell_type": "markdown",
   "metadata": {},
   "source": [
    "![imagen](./img/ejercicios.png)"
   ]
  },
  {
   "cell_type": "markdown",
   "metadata": {},
   "source": [
    "# Ejercicios funciones\n",
    "## Ejercicio 1\n",
    "Escribe una función que convierta números del 1 al 7 en nombres de los dias de la semana. La función constará de un único argumento numérico y una salida de tipo string"
   ]
  },
  {
   "cell_type": "code",
   "execution_count": 3,
   "metadata": {},
   "outputs": [
    {
     "name": "stdout",
     "output_type": "stream",
     "text": [
      "El día es  Tiene que ser un numero del 1 al 7\n"
     ]
    }
   ],
   "source": [
    "def ejercicio_1(numero):\n",
    "    if numero == 1:\n",
    "        return \"lunes\"\n",
    "    elif numero == 2:\n",
    "        return \"martes\"\n",
    "    elif numero == 3:\n",
    "        return \"miercoles\"\n",
    "    elif numero == 4:\n",
    "        return \"jueves\"\n",
    "    elif numero == 5:\n",
    "        return \"viernes\"\n",
    "    elif numero == 6:\n",
    "        return \"sábado\"\n",
    "    elif numero == 7:\n",
    "        return \"domingo\"\n",
    "    else:\n",
    "        return \"Tiene que ser un numero del 1 al 7\"\n",
    "\n",
    "numero_semana = int(input(\"Escribe un número del 1 al 7\"))\n",
    "el_dia = ejercicio_1(numero_semana)\n",
    "print(\"El día es \", el_dia)\n",
    "\n",
    "        "
   ]
  },
  {
   "cell_type": "code",
   "execution_count": 3,
   "metadata": {},
   "outputs": [],
   "source": []
  },
  {
   "cell_type": "code",
   "execution_count": 5,
   "metadata": {},
   "outputs": [
    {
     "name": "stdout",
     "output_type": "stream",
     "text": [
      "El día no existe\n"
     ]
    }
   ],
   "source": []
  },
  {
   "cell_type": "markdown",
   "metadata": {},
   "source": [
    "## Ejercicio 2\n",
    "En el ejercicio 8 de bucles, creábamos una pirámide invertida, cuyo número de pisos venía determinado por un input del usuario. Crear una función que replique el comportamiento de la pirámide, y utiliza un único parámetro de entrada de la función para determinar el número de filas de la pirámide, es decir, elimina la sentencia input."
   ]
  },
  {
   "cell_type": "code",
   "execution_count": 19,
   "metadata": {},
   "outputs": [
    {
     "name": "stdout",
     "output_type": "stream",
     "text": [
      "*****\n",
      "****\n",
      "***\n",
      "**\n",
      "*\n"
     ]
    }
   ],
   "source": [
    "def ejercicio_2(num_asteriscos):\n",
    "    for i in range(num_asteriscos, 0, -1):   \n",
    "        salida = \"\"\n",
    "        for j in range(i):          \n",
    "            salida += \"*\"\n",
    "        print(salida)\n",
    "\n",
    "numero_asteriscos_final=int(input(\"Escoge el numero máximo de asteriscos\"))\n",
    "ejercicio_2(numero_asteriscos_final)\n",
    "\n",
    "\n"
   ]
  },
  {
   "cell_type": "code",
   "execution_count": 9,
   "metadata": {},
   "outputs": [
    {
     "name": "stdout",
     "output_type": "stream",
     "text": [
      "\n",
      "None\n"
     ]
    }
   ],
   "source": [
    "\n"
   ]
  },
  {
   "cell_type": "markdown",
   "metadata": {},
   "source": [
    "## Ejercicio 3\n",
    "Escibe una función que compare dos números. La función tiene dos argumentos y hay tres salidas posibles: que sean iguales, que el primero se  mayor que el segundo, o que el segundo sea mayor que el primero"
   ]
  },
  {
   "cell_type": "code",
   "execution_count": 18,
   "metadata": {},
   "outputs": [
    {
     "name": "stdout",
     "output_type": "stream",
     "text": [
      "El segundo valor es mayor\n"
     ]
    }
   ],
   "source": [
    "def ejercicio_3(a,b):\n",
    "    if a==b:\n",
    "        return(\"Ambos elementos son iguales\")\n",
    "    elif a>b:\n",
    "        return(\"El primer valor es mayor\")\n",
    "    else:\n",
    "        return(\"El segundo valor es mayor\")\n",
    "    \n",
    "ValorA=input(\"Escriba un primer elemento\")\n",
    "ValorB=input(\"Escriba un segundo elemento\")\n",
    "\n",
    "comparativa=ejercicio_3(ValorA,ValorB)\n",
    "\n",
    "print(comparativa)"
   ]
  },
  {
   "cell_type": "markdown",
   "metadata": {},
   "source": [
    "## Ejercicio 4\n",
    "Escribe una función que sea un contador de letras. En el primer argumento tienes que introducir un texto, y el segundo que sea la letra a contar. La función tiene que devolver un entero con el número de veces que aparece esa letra, tanto mayuscula, como minúscula"
   ]
  },
  {
   "cell_type": "code",
   "execution_count": 30,
   "metadata": {},
   "outputs": [
    {
     "name": "stdout",
     "output_type": "stream",
     "text": [
      "Hay 3 letra/s iguales en el texto\n"
     ]
    }
   ],
   "source": [
    "def ejercicio_4 (texto, letra):\n",
    "    contador = 0\n",
    "    for ltra in texto:\n",
    "        if ltra == letra or ltra == letra.upper() or ltra == letra.lower():\n",
    "            contador = contador + 1\n",
    "    return contador\n",
    "\n",
    "\n",
    "Pedir_texto = input(\"Por favor escribe un texto \")\n",
    "Pedir_letra = input(\"Ahora escribe una letra que esté en el texto \")\n",
    "\n",
    "resultado = ejercicio_4(Pedir_texto, Pedir_letra)\n",
    "print(\"Hay\", resultado, \"letra/s iguales en el texto\")\n",
    "\n"
   ]
  },
  {
   "cell_type": "markdown",
   "metadata": {},
   "source": [
    "## Ejercicio 5\n",
    "Escribe una función que tenga un único argumento, un string. La salida de la función tiene que ser un diccionario con el conteo de todas las letras de ese string."
   ]
  },
  {
   "cell_type": "code",
   "execution_count": null,
   "metadata": {},
   "outputs": [
    {
     "name": "stdout",
     "output_type": "stream",
     "text": [
      "{'P': 1, 'y': 1, 't': 1, 'h': 1, 'o': 1, 'n': 1}\n"
     ]
    }
   ],
   "source": [
    "def ejercicio_5 (palabra):\n",
    "    diccionario = {}\n",
    "    for char in palabra:\n",
    "        if char in diccionario:\n",
    "            diccionario[char]+ 1\n",
    "        else:\n",
    "            diccionario[char] = 1\n",
    "    return diccionario\n",
    "    \n",
    "nueva_palabra= \"Python\"\n",
    "print (ejercicio_5(nueva_palabra))"
   ]
  },
  {
   "cell_type": "code",
   "execution_count": 17,
   "metadata": {},
   "outputs": [
    {
     "data": {
      "text/plain": [
       "{'h': 2, 'o': 2, 'l': 2, 'a': 2}"
      ]
     },
     "execution_count": 17,
     "metadata": {},
     "output_type": "execute_result"
    }
   ],
   "source": []
  },
  {
   "cell_type": "markdown",
   "metadata": {},
   "source": [
    "## Ejercicio 6\n",
    "Escribir una función que añada o elimine elementos en una lista. La función necesita los siguientes argumentos:\n",
    "* lista: la lista donde se añadirán o eliminarán los elementos\n",
    "* comando: \"add\" o \"remove\"\n",
    "* elemento: Por defecto es None."
   ]
  },
  {
   "cell_type": "code",
   "execution_count": null,
   "metadata": {},
   "outputs": [
    {
     "name": "stdout",
     "output_type": "stream",
     "text": [
      "[1, 2, 3, 4]\n",
      "[1, 3, 4]\n"
     ]
    },
    {
     "data": {
      "text/plain": [
       "[1, 3, 4]"
      ]
     },
     "execution_count": 32,
     "metadata": {},
     "output_type": "execute_result"
    }
   ],
   "source": [
    "def ejercicio_6(la_lista, accion, objeto_lista):\n",
    "    if accion == \"añadir\":\n",
    "     la_lista.append(objeto_lista)\n",
    "    elif accion == \"borrar\":\n",
    "       if objeto_lista in la_lista:\n",
    "          la_lista.remove(objeto_lista)\n",
    "    else:\n",
    "          print(\"no se ha encontrado ningun objeto \")\n",
    "    return la_lista\n",
    "\n",
    "lista_ejer6 = [1, 2, 3]\n",
    "\n",
    "\n",
    "ejercicio_6(lista_ejer6, \"añadir\", 4)\n",
    "print(lista_ejer6)  \n",
    "ejercicio_6(lista_ejer6, \"borrar\", 2)\n",
    "print(lista_ejer6)  \n",
    "\n",
    "\n",
    "\n",
    "          \n"
   ]
  },
  {
   "cell_type": "markdown",
   "metadata": {},
   "source": [
    "## Ejercicio 7\n",
    "Crea una función que reciba un número arbitrario de palabras, y devuelva una frase completa, separando las palabras con espacios."
   ]
  },
  {
   "cell_type": "code",
   "execution_count": 55,
   "metadata": {},
   "outputs": [
    {
     "data": {
      "text/plain": [
       "'hola adios'"
      ]
     },
     "execution_count": 55,
     "metadata": {},
     "output_type": "execute_result"
    }
   ],
   "source": [
    "def ejercicio_7 (*palabras): \n",
    "    return \" \".join(palabras)\n",
    "    \n",
    "ejercicio_7(\"hola\", \"adios\")"
   ]
  },
  {
   "cell_type": "markdown",
   "metadata": {},
   "source": [
    "## Ejercicio 8\n",
    "Escribe un programa que obtenga el enésimo número de la [serie de Fibonacci](https://es.wikipedia.org/wiki/Sucesi%C3%B3n_de_Fibonacci). Tienes que crear una función recursiva con un único argumento.\n",
    "\n",
    "```Python\n",
    "fibonacci(2) = 1\n",
    "fibonacci(4) = 3\n",
    "fibonacci(5) = 5\n",
    "fibonacci(8) = 21\n",
    "```"
   ]
  },
  {
   "cell_type": "code",
   "execution_count": null,
   "metadata": {},
   "outputs": [
    {
     "name": "stdout",
     "output_type": "stream",
     "text": [
      "0 1 1 2 4 7 11 16 22 29 "
     ]
    }
   ],
   "source": [
    "# https://www.datacamp.com/es/tutorial/fibonacci-sequence-python?dc_referrer=https%3A%2F%2Fwww.google.com%2F&utm_source=google&utm_medium=paid_search&utm_campaignid=19589720821&utm_adgroupid=157156375191&utm_content=ps-other%7Eemea-en%7Edsa%7Etofu%7Etutorial-python&utm_campaign=230119_1-ps-other%7Edsa%7Etofu_2-b2c_3-emea_4-prc_5-na_6-na_7-le_8-pdsh-go_9-nb-e_10-na_11-na&gclid=Cj0KCQjwjJrCBhCXARIsAI5x66W30GJL1uH3hP8OGJAGPO8-1yZ317jA1u_nGYaap0YlfeFofC4lQE8aAmU4EALw_wcB\n",
    "def ejercicio_8 (n):\n",
    "    if n <= 1:\n",
    "        return n\n",
    "    return ejercicio_8 (n - 1) + (n - 2)\n",
    "\n",
    "for nmber in range(10):\n",
    "    print(ejercicio_8(nmber), end=\" \")\n",
    "\n",
    "    "
   ]
  },
  {
   "cell_type": "markdown",
   "metadata": {},
   "source": [
    "## Ejercicio 9\n",
    "Define en una única celda las siguientes funciones:\n",
    "* Función que calcule el área de un cuadrado\n",
    "* Función que calcule el area de un triángulo\n",
    "* Función que calcule el área de un círculo\n",
    "\n",
    "En otra celda, calcular el area de:\n",
    "* Dos círculos de radio 10 + un triángulo de base 3 y altura 7\n",
    "* Un cuadrado de lado = 10 + 3 círculos (uno de radio = 4 y los otros dos de radio = 6) + 5 triángulos de base = 2 + altura = 4"
   ]
  },
  {
   "cell_type": "code",
   "execution_count": 77,
   "metadata": {},
   "outputs": [],
   "source": [
    "import math\n",
    "def ejercicio_9_1 (lado_cuad):\n",
    "     return lado_cuad * lado_cuad\n",
    "def ejercicio_9_2 (base_tri, altura_tri):\n",
    "     return base_tri * altura_tri/2\n",
    "def ejercicio_9_3 (radio_circ):\n",
    "     return math.pi* radio_circ**2\n"
   ]
  },
  {
   "cell_type": "code",
   "execution_count": 81,
   "metadata": {},
   "outputs": [
    {
     "name": "stdout",
     "output_type": "stream",
     "text": [
      "324.6592653589793\n",
      "396.46015351590177\n"
     ]
    }
   ],
   "source": [
    "#1\n",
    "radio_1=10\n",
    "base_1=3\n",
    "altura_1=7\n",
    "print(ejercicio_9_3(radio_1) + ejercicio_9_2(base_1,altura_1))\n",
    "\n",
    "#2\n",
    "lado_1=10\n",
    "radio_2=4\n",
    "radio_3=6\n",
    "base_2=2\n",
    "altura_2=4\n",
    "print(ejercicio_9_1(lado_1) + ejercicio_9_3(radio_2) + (ejercicio_9_3(radio_3) *2 ) + ( ejercicio_9_2(base_2,altura_2) *5 ))\n"
   ]
  }
 ],
 "metadata": {
  "kernelspec": {
   "display_name": "Python 3",
   "language": "python",
   "name": "python3"
  },
  "language_info": {
   "codemirror_mode": {
    "name": "ipython",
    "version": 3
   },
   "file_extension": ".py",
   "mimetype": "text/x-python",
   "name": "python",
   "nbconvert_exporter": "python",
   "pygments_lexer": "ipython3",
   "version": "3.13.3"
  }
 },
 "nbformat": 4,
 "nbformat_minor": 4
}
