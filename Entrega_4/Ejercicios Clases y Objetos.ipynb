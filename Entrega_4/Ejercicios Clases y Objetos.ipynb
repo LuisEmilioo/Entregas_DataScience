{
 "cells": [
  {
   "cell_type": "markdown",
   "metadata": {},
   "source": [
    "![imagen](./img/ejercicios.png)\n",
    "\n",
    "# Ejercicios Clases y Objetos"
   ]
  },
  {
   "cell_type": "markdown",
   "metadata": {},
   "source": [
    "## Ejercicio 1\n",
    "Somos una empresa que tiene varias tiendas de electrodomesticos. Necesitamos un programa para manejar las tiendas, ver las ventas que han tenido, cuántos empleados hay, etc... Para ello vamos a modelizar la tienda en una clase, que tendrá las siguientes características:\n",
    "* Nombre clase: \"Tienda\"\n",
    "* Atributos comunes:\n",
    "    * Tipo: \"Electrodomésticos\"\n",
    "    * Abierta: True\n",
    "* Atributos propios de cada tienda:\n",
    "    * Nombre - String\n",
    "    * Dirección - String\n",
    "    * Número de empleados - int\n",
    "    * Ventas ultimos 3 meses - Lista de 3 numeros\n",
    "* Método para calcular las ventas de todos los meses, que devuelva un numero con todas las ventas.\n",
    "* Método que calcula la media de ventas de los ultimos meses, por empleado\n",
    "* Método que devuelve en un string el nombre de la tienda, junto con su dirección.\n",
    "* Método que obtiene las ventas del último mes.\n",
    "* Método para dar una proyección de las ventas en caso de haber invertido X dinero en marketing en esa tienda. Siendo X el parámetro de entrada. Si X es menor de 1000, las ventas de los ultimos 3 meses hubiesen sido de (1.2 x ventas), si es mayor o igual de 1000, las ventas hubiesen sido de (1.5 x venta). El método reescribe el atributo de ventas en los últimos 3 meses, y además devuelve las ventas con el aumento.\n",
    "\n",
    "Se pide:\n",
    "1. Implementar la clase \"Tienda\"\n",
    "2. Crear tres tiendas con datos inventados\n",
    "3. Comprueba en al menos una de ellas, todo lo implementado en la clase tienda (sus atributos, media de ventas, ventas/empleado...)\n",
    "3. Calcular las ventas del último mes de todas las tiendas. Para ello usa el bucle `for`\n",
    "4. Imprime por pantalla los nombres de las tiendas cuya dirección lleve el string \"Avenida\"\n",
    "5. Seguro que ya has hecho este apartado... Documenta la clase :)"
   ]
  },
  {
   "cell_type": "code",
   "execution_count": 8,
   "metadata": {},
   "outputs": [],
   "source": [
    "class Tienda:\n",
    "    tipo = \"electronicos\"\n",
    "    abierto = True \n",
    "\n",
    "    #Métodos (creo...funciones/instancias?) preguntar <---\n",
    "\n",
    "    def __init__ (self, nombre, direccion, numero_empleados, ventas):\n",
    "     self.nombre = nombre\n",
    "     self.direccion = direccion\n",
    "     self.numero_empleados = numero_empleados\n",
    "     self.ventas = ventas\n",
    "    \n",
    "    def ventas_totales(self):\n",
    "     total_ventas = sum(self.ventas)\n",
    "     return print(\"mis ventas totales son \", total_ventas)\n",
    "    \n",
    "    def media_ventas_mes_empleados(self, mes_1):\n",
    "      media_mes= self.ventas[mes_1]/self.numero_empleados\n",
    "      return media_mes\n",
    "    \n",
    "    def nombre_y_direccion (self):\n",
    "      \n",
    "      return print(self.nombre +\", \"+ self.direccion)\n",
    "    \n",
    "    def ventas_ultimo_mes (self):\n",
    "      numero_ventas_mes = int(input(\"Introduce el numero del mes: \"))\n",
    "      self.ventas[numero_ventas_mes]\n",
    "      return print(\"Las ventas del mes \" + str(numero_ventas_mes + 1) + \" Fueron: \" + str(self.ventas[numero_ventas_mes]))\n",
    "    \n",
    "    def proyeccion_ventas (self):\n",
    "      inversion = int(input(\"Escribe la cantidad de dinero a invertir: \"))\n",
    "      \n",
    "      if inversion < 1000:\n",
    "        \n",
    "        valorUltimoMes_1 = self.ventas[9] * 1.2\n",
    "        valorUltimoMes_2 = self.ventas[10] * 1.2\n",
    "        valorUltimoMes_3 = self.ventas[11] * 1.2\n",
    "\n",
    "        self.ventas[9]=valorUltimoMes_1\n",
    "        self.ventas[10]=valorUltimoMes_2\n",
    "        self.ventas[11]=valorUltimoMes_3\n",
    "        return print(self.ventas)\n",
    "      \n",
    "      else:\n",
    "        \n",
    "        valorUltimoMes_1 = self.ventas[9] * 1.5\n",
    "        valorUltimoMes_2 = self.ventas[10] * 1.5\n",
    "        valorUltimoMes_3 = self.ventas[11] * 1.5\n",
    "\n",
    "        self.ventas[9]=valorUltimoMes_1\n",
    "        self.ventas[10]=valorUltimoMes_2\n",
    "        self.ventas[11]=valorUltimoMes_3\n",
    "        return print(self.ventas)\n",
    "\n",
    "     \n",
    "       \n",
    "\n",
    "       \n"
   ]
  },
  {
   "cell_type": "code",
   "execution_count": 11,
   "metadata": {},
   "outputs": [
    {
     "name": "stdout",
     "output_type": "stream",
     "text": [
      "electronicos\n",
      "True\n",
      "mis ventas totales son  40288\n",
      "la media de ventas por empleados fue: 262.4\n",
      "Electronix, Alfonso XII, 9\n",
      "Las ventas del mes 3 Fueron: 823\n",
      "[1032, 1312, 823, 4433, 3437, 2313, 7128, 1122, 3127, 9471.0, 3184.5, 10686.0]\n",
      "{'nombre': 'Electronix', 'direccion': 'Alfonso XII, 9', 'numero_empleados': 5, 'ventas': [1032, 1312, 823, 4433, 3437, 2313, 7128, 1122, 3127, 9471.0, 3184.5, 10686.0]}\n"
     ]
    }
   ],
   "source": [
    "#1\n",
    "print(Tienda.tipo)\n",
    "print(Tienda.abierto)\n",
    "t1 = Tienda(\"Electronix\", \"Alfonso XII, 9\",5,[1032,1312,823,4433,3437,2313,7128,1122,3127,6314,2123,7124])\n",
    "t2 = Tienda (\"Radioshak\", \"Calle 2 de Abril 19\", 12, [5243,5431,5823,7984,2345,1324,5342,2673, 6254,3742,8763,2768])\n",
    "t3 = Tienda (\"ElektroShok\", \"Avenida Tecnológico 21\", 9,[264,845,1423,63,857,2543,142,47,234,4562,6231,4132])\n",
    "\n",
    "t1.ventas_totales()\n",
    "\n",
    "t1.media_ventas_mes_empleados(1)\n",
    "print(\"la media de ventas por empleados fue: \" + str(t1.media_ventas_mes_empleados(1)))\n",
    "\n",
    "t1.nombre_y_direccion()\n",
    "\n",
    "t1.ventas_ultimo_mes()\n",
    "\n",
    "t1.proyeccion_ventas()\n",
    "\n",
    "print(t1.__dict__)\n",
    "\n"
   ]
  },
  {
   "cell_type": "code",
   "execution_count": 3,
   "metadata": {},
   "outputs": [
    {
     "name": "stdout",
     "output_type": "stream",
     "text": [
      "15750.0\n",
      "mi tienda 1\n"
     ]
    }
   ],
   "source": []
  },
  {
   "cell_type": "markdown",
   "metadata": {},
   "source": [
    "## Ejercicio 2\n",
    "En este ejercicio vamos a implementar una clase *Perro* en Python. La clase tiene las siguientes características:\n",
    "* Cosas que sabemos seguro que tiene un perro\n",
    "    * Tiene 4 patas\n",
    "    * 2 orejas\n",
    "    * 2 ojos\n",
    "    * Una velocidad de 0. Por defecto, el perro está parado\n",
    "* Cuando se inicialice:\n",
    "    * El perro será de una determinada raza\n",
    "    * Por defecto tendrá pelo \"Marrón\", a no ser que se diga lo contrario.\n",
    "    * Por defecto no tendrá dueño, a no ser que se diga lo contrario.\n",
    "    \n",
    "* Dispondrá también de un método llamado andar, que tiene un argumento de entrada (aumento_velocidad). Este valor se le sumará a la velocidad que ya llevaba el perro.\n",
    "* Necesita otro método (parar), donde pondremos la velocidad a 0.\n",
    "* Otro método llamado \"ladrar\", que tendrá un argumento de entrada, y la salida será el siguiente string: \"GUAU!\" + el argumento de entrada.\n",
    "\n",
    "\n",
    "Se pide:\n",
    "* Implementa la clase *Perro*\n",
    "* Crea un objeto de tipo *Perro*, sin dueño\n",
    "* Comprueba que están bien todos sus atributos\n",
    "* Prueba que ande, y comprueba su velocidad\n",
    "* Páralo\n",
    "* Documenta la clase *Perro*"
   ]
  },
  {
   "cell_type": "code",
   "execution_count": 18,
   "metadata": {},
   "outputs": [],
   "source": [
    "class Perro: #Esta parte representa una clase \n",
    "    patas = 4 #No siempre :'C\n",
    "    orejas = 2 \n",
    "    ojos = 2\n",
    "    velocidad = 0\n",
    "    \n",
    "    def __init__(self, raza = \"Akita\", pelo = \"Marrón\", dueno = True): #Este es el constructor de la clase perro el cual indica su raza, color de pelo y si tiene dueño o no  \n",
    "        self.raza = raza\n",
    "        self.pelo = pelo \n",
    "        self.dueno = dueno\n",
    "\n",
    "    def andar(self, aumento_de_velocidad): #Este es un método el cual indica la velocidad a la que el perro se está moviendo en caso de que lo esté haciendo \n",
    "        self.velocidad = self.velocidad + aumento_de_velocidad\n",
    "\n",
    "        if  self.velocidad < 4 and self.velocidad > 0: #Si el perro tiene una velocidad mayor a 0 pero menor que 4 mostrará un mensaje\n",
    "            return print(\"El perro está caminando a una velocidad de \"+ str(self.velocidad) +\"Km/h!\")\n",
    "        elif self.velocidad > 4: #Si el perro tiene una velocidad mayor a 4 mostrará un mensaje diferente al primero\n",
    "            return print(\"El perro está corriendo a una velocidad de \" + str(self.velocidad) +\"Km/h!\")\n",
    "        else: #En caso de que no se esté moviendo se mostrará un mensaje que lo indique \n",
    "            return print(\"El perro no se mueve...\")\n",
    "    \n",
    "    def parar(self): #Este es un método que cambia la velocidad del perro a 0 (significa que el perro deja de andar)\n",
    "       if  self.velocidad < 4 and self.velocidad > 0:\n",
    "            self.velocidad=0\n",
    "            return print(\"El perro se ha deteniod\")\n",
    "       \n",
    "       elif self.velocidad > 4:\n",
    "            self.velocidad=0\n",
    "            return print(\"El perro se ha frenado de golpe!\")\n",
    "       \n",
    "       else:\n",
    "            \n",
    "            return print(\"Y el perro sigue ahí, quieto...\")\n",
    "\n",
    "            \n",
    "      # self.velocidad=0\n",
    "\n",
    "       return print(\"El perro a frenado, su velocidad ahora es de: \" + str(self.velocidad))\n",
    "    \n",
    "   \n",
    "     \n",
    "\n",
    "\n",
    "    def ladrar(self, argumento):\n",
    "\n",
    "        argumento=str(argumento)\n",
    "\n",
    "        return print(\"GUAU! \" + argumento)"
   ]
  },
  {
   "cell_type": "code",
   "execution_count": null,
   "metadata": {},
   "outputs": [],
   "source": []
  },
  {
   "cell_type": "code",
   "execution_count": 22,
   "metadata": {},
   "outputs": [
    {
     "name": "stdout",
     "output_type": "stream",
     "text": [
      "{'raza': 'Akita', 'pelo': 'Naranja', 'dueno': False}\n",
      "El perro no se mueve...\n",
      "Y el perro sigue ahí, quieto...\n",
      "GUAU! Hola\n"
     ]
    }
   ],
   "source": [
    "perro1 = Perro() \n",
    "perro_sin_dueño = Perro(\"Akita\",\"Naranja\", dueno = False)\n",
    "print(perro_sin_dueño.__dict__)\n",
    "perro1.andar(0)\n",
    "perro1.parar()\n",
    "perro1.ladrar(\"Hola\")"
   ]
  },
  {
   "cell_type": "code",
   "execution_count": null,
   "metadata": {},
   "outputs": [],
   "source": []
  }
 ],
 "metadata": {
  "kernelspec": {
   "display_name": "Python 3",
   "language": "python",
   "name": "python3"
  },
  "language_info": {
   "codemirror_mode": {
    "name": "ipython",
    "version": 3
   },
   "file_extension": ".py",
   "mimetype": "text/x-python",
   "name": "python",
   "nbconvert_exporter": "python",
   "pygments_lexer": "ipython3",
   "version": "3.13.3"
  }
 },
 "nbformat": 4,
 "nbformat_minor": 4
}
