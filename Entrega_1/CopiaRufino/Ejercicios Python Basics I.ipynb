{
 "cells": [
  {
   "cell_type": "markdown",
   "metadata": {},
   "source": [
    "![imagen](./img/ejercicios.png)"
   ]
  },
  {
   "cell_type": "markdown",
   "metadata": {},
   "source": [
    "# Ejercicios Python Basics I"
   ]
  },
  {
   "cell_type": "markdown",
   "metadata": {},
   "source": [
    "## Ejercicio 1\n",
    "Imprime por pantalla esta cita con el siguiente formato\n",
    "\n",
    "![imagen](./img/frase_Einstein.PNG)"
   ]
  },
  {
   "cell_type": "code",
   "execution_count": 1,
   "metadata": {},
   "outputs": [
    {
     "name": "stdout",
     "output_type": "stream",
     "text": [
      "¿Por qué esta magnífica tecnología cientifica,\n",
      "\tque ahorra trabajo  y nos hace la vida mas fácil,\n",
      "\t\tnos aporta tan poca felicidad?\n",
      "\t\t\tLa respuesta es está, simplemente: porque aún no hemos aprendido a usarla con tino.\n",
      "\"Albert Einstein\"\n"
     ]
    }
   ],
   "source": [
    "print(\"¿Por qué esta magnífica tecnología cientifica,\")\n",
    "print(\"\\tque ahorra trabajo  y nos hace la vida mas fácil,\")\n",
    "print(\"\\t\\tnos aporta tan poca felicidad?\")\n",
    "print(\"\\t\\t\\tLa respuesta es está, simplemente: porque aún no hemos aprendido a usarla con tino.\") \n",
    "print('\"Albert Einstein\"')"
   ]
  },
  {
   "cell_type": "markdown",
   "metadata": {},
   "source": [
    "## Ejercicio 2\n",
    "1. Escribe el nombre de la calle de tu domicilio\n",
    "2. Escribe el numero de la calle en otra\n",
    "3. Población en una tercera\n",
    "4. Codigo postal en la cuarta variable\n",
    "5. Crea una quinta variable que concatene todas ellas\n",
    "6. Imprimela por pantalla"
   ]
  },
  {
   "cell_type": "code",
   "execution_count": 24,
   "metadata": {},
   "outputs": [
    {
     "name": "stdout",
     "output_type": "stream",
     "text": [
      "Calle Gutenberg\n",
      "9\n",
      "Madrid\n",
      "28013\n"
     ]
    }
   ],
   "source": [
    "Nombre_Calle = \"Calle Gutenberg\"\n",
    "Numero_Calle = 9\n",
    "Poblacion = \"Madrid\"\n",
    "Numero_Postal = 28013\n",
    "print(Nombre_Calle)\n",
    "print(Numero_Calle)\n",
    "print(Poblacion)\n",
    "print(Numero_Postal)"
   ]
  },
  {
   "cell_type": "markdown",
   "metadata": {},
   "source": [
    "## Ejercicio 3\n",
    "Replica el output del ejercicio dos, pero está vez sin usar una variable intermedia que concatene todas las demas. Realiza este ejercicio en una línea, con un  único `print`"
   ]
  },
  {
   "cell_type": "code",
   "execution_count": 12,
   "metadata": {},
   "outputs": [
    {
     "name": "stdout",
     "output_type": "stream",
     "text": [
      " Calle Gutenberg \n",
      " 9 \n",
      " Madrid \n",
      " 28013\n"
     ]
    }
   ],
   "source": [
    "Nombre_Calle = \"Calle Gutenberg\"\n",
    "Numero_Calle = 9\n",
    "Poblacion = \"Madrid\"\n",
    "Numero_Postal = 28013\n",
    "#Info_Direccion_Completa=Nombre_Calle ,Numero_Calle ,Poblacion ,Numero_Postal\n",
    "print(\"\",Nombre_Calle ,\"\\n\",Numero_Calle ,\"\\n\",Poblacion ,\"\\n\",Numero_Postal)\n",
    "#print (Info_Direccion_Completa)"
   ]
  },
  {
   "cell_type": "markdown",
   "metadata": {},
   "source": [
    "## Ejercicio 4\n",
    "¿Qué variables están mal escritas y por qué? Realiza primero tu hipótesis y luego ejecuta las variables para comprobarlo. En ese orden :)\n",
    "\n",
    "\n",
    "1. mi_variable = \"Economía\"\n",
    "2. otra_var = \"Ejercicio\n",
    "3. True = \"Ejercicio\"\n",
    "4. mi variab1e = \"Alpha\"\n",
    "5. exec = True\n",
    "6. import = 40\n",
    "7. 81mi_variable = \"Agua\"\n",
    "8. mi_variable10 = 6\n"
   ]
  },
  {
   "cell_type": "markdown",
   "metadata": {},
   "source": [
    "1. n/a\n",
    "2. le falta doble comillas al final del string\n",
    "3. No se puede asignar un valor a True\n",
    "4. n/a\n",
    "5. n/a\n",
    "6. import es una funcion integrada\n",
    "7. No se puede empezar el nombre de una variable con números\n",
    "8. n/a"
   ]
  },
  {
   "cell_type": "markdown",
   "metadata": {},
   "source": [
    "## Ejercicio 5\n",
    "Realiza un conversor de grados Celsius a Fahrenheit. El conversor tiene que recibir el input del usuario y devolver la conversión.\n",
    "\n",
    "La conversión de grados sigue la siguiente fórmula: F = (C × 9 / 5) + 32 "
   ]
  },
  {
   "cell_type": "code",
   "execution_count": 13,
   "metadata": {},
   "outputs": [
    {
     "name": "stdout",
     "output_type": "stream",
     "text": [
      "La temperatura en Fahrenheit es de  71.6\n"
     ]
    }
   ],
   "source": [
    "Temperatura_cel=input(\"Por favor introduzca la temperatura en grados Celsius\")\n",
    "Temp_Cel_to_int= int(Temperatura_cel)\n",
    "Conversion_Temp= ((Temp_Cel_to_int *9/5)+32)\n",
    "Temperatura_fah=Conversion_Temp\n",
    "print(\"La temperatura en Fahrenheit es de \",Temperatura_fah)"
   ]
  },
  {
   "cell_type": "markdown",
   "metadata": {},
   "source": [
    "## Ejercicio 6\n",
    "Comenta en la medida de lo posible el Ejercicio 5. Será suficiente con poner al menos un comentario de línea, y otro multilínea"
   ]
  },
  {
   "cell_type": "code",
   "execution_count": null,
   "metadata": {},
   "outputs": [],
   "source": [
    "#Proceso realización ejercicio 5\n",
    "''' Primero se le pide al usuario que introduzca un numero \n",
    "El numero introducido por el usuaario sera de tipo string entonces debemos convertirlo en entero para poder hacer la formula\n",
    "Se crea una nueva variable que almacenara el numero dado por el usuario pero ahora como un numero entero\n",
    "Utilizamos la formula para convertir grados Celsius a Fahrenheit\n",
    "Cramos una variable que almacene el nuevo valor \n",
    "Utilizamos un print para mostrar el nuevo valor en pantalla'''"
   ]
  }
 ],
 "metadata": {
  "kernelspec": {
   "display_name": "Python 3",
   "language": "python",
   "name": "python3"
  },
  "language_info": {
   "codemirror_mode": {
    "name": "ipython",
    "version": 3
   },
   "file_extension": ".py",
   "mimetype": "text/x-python",
   "name": "python",
   "nbconvert_exporter": "python",
   "pygments_lexer": "ipython3",
   "version": "3.13.3"
  }
 },
 "nbformat": 4,
 "nbformat_minor": 4
}
